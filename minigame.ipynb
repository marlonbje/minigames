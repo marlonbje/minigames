{
 "cells": [
  {
   "metadata": {
    "trusted": true
   },
   "cell_type": "code",
   "source": "import pandas as pd\nimport numpy as np\n\nclass MiniGame():\n    def __init__(self):\n        self.current_player = 0\n        self.player1_annot = 'x'\n        self.player2_annot = 'o'\n        self.spaces = '•'\n        self.playingfield = self.layout()\n        \n    def layout(self):\n        while True:\n            layout = input('TicTacToe or Four Connect? (1/2) ').strip()\n            if layout == '1':\n                self.game = 'TicTacToe'\n                frame = np.array([self.spaces]*9).reshape(3,3)\n                playingfield = pd.DataFrame(frame,columns=['1','2','3'],index=['A','B','C'])\n                return playingfield\n            elif layout == '2':\n                self.game = 'Four Connect'\n                frame = np.array([self.spaces]*25).reshape(5,5)\n                playingfield = pd.DataFrame(frame,columns=['A','B','C','D','E'],index=[0,1,2,3,4])\n                return playingfield\n            else:\n                print('invalid input\\n')\n\n    def get_player(self):\n        if self.current_player == 0:\n            self.current_player += 1\n            return self.player1_annot\n        else:\n            self.current_player -= 1\n            return self.player2_annot\n\n    def move(self,playingfield,field):\n        if self.game == 'Four Connect':\n            self.field = field[0]\n            if self.field in self.playingfield.columns:\n                if self.spaces in self.playingfield[self.field].values:\n                    for i in range(5):\n                        if self.playingfield.loc[i,self.field] == self.spaces:\n                            last_free_index = i\n                    self.playingfield.loc[last_free_index,self.field] = self.get_player()\n                    print(f'\\n{self.playingfield}')\n                else:\n                    print('column full')\n            else:\n                print('no such column')\n        else:\n            try:\n                row = field[0].upper()\n                column = field[1]\n                if column in self.playingfield.columns and row in self.playingfield.index:\n                    if self.playingfield.loc[row,column] == self.spaces:\n                        self.playingfield.loc[row,column] = self.get_player()\n                        print(f'\\n{self.playingfield}')\n                    else:\n                        print('field already occupied')\n                else:\n                    print('no such field')\n            except IndexError:\n                print('incomplete input')\n\n    def play(self):\n        while True:\n            config = input('\\nconfig player figures? (y/n) ').lower().strip()\n            if config == 'y':\n                self.player1_annot = input('\\nplayer1 figure? ').lower().strip()\n                self.player2_annot = input('player2 figure? ').lower().strip()\n                break\n            elif config == 'n':\n                break\n            else:\n                print('invalid input')\n        print(f'\\n{self.playingfield}')\n        while self.spaces in self.playingfield.values:\n            self.move(self.playingfield,input(f'\\nplayer {self.current_player+1}: field? ').strip())\n\nif __name__ == '__main__':\n    Game = MiniGame()\n    Game.play()",
   "execution_count": null,
   "outputs": []
  }
 ],
 "metadata": {
  "kernelspec": {
   "name": "python3",
   "display_name": "Python 3",
   "language": "python"
  },
  "language_info": {
   "name": "python",
   "version": "3.10.4",
   "mimetype": "text/x-python",
   "codemirror_mode": {
    "name": "ipython",
    "version": 3
   },
   "pygments_lexer": "ipython3",
   "nbconvert_exporter": "python",
   "file_extension": ".py"
  }
 },
 "nbformat": 4,
 "nbformat_minor": 2
}